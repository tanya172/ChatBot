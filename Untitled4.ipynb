{
  "nbformat": 4,
  "nbformat_minor": 0,
  "metadata": {
    "colab": {
      "provenance": [],
      "authorship_tag": "ABX9TyNZhjWMwzYAZ5hD43JzlW3F",
      "include_colab_link": true
    },
    "kernelspec": {
      "name": "python3",
      "display_name": "Python 3"
    },
    "language_info": {
      "name": "python"
    }
  },
  "cells": [
    {
      "cell_type": "markdown",
      "metadata": {
        "id": "view-in-github",
        "colab_type": "text"
      },
      "source": [
        "<a href=\"https://colab.research.google.com/github/tanya172/ChatBot/blob/main/Untitled4.ipynb\" target=\"_parent\"><img src=\"https://colab.research.google.com/assets/colab-badge.svg\" alt=\"Open In Colab\"/></a>"
      ]
    },
    {
      "cell_type": "code",
      "execution_count": 1,
      "metadata": {
        "colab": {
          "base_uri": "https://localhost:8080/"
        },
        "id": "W16Un5RWDf00",
        "outputId": "a973ebca-5375-483e-af19-6aca40a3babf"
      },
      "outputs": [
        {
          "output_type": "stream",
          "name": "stdout",
          "text": [
            "hi\n"
          ]
        }
      ],
      "source": [
        "print(\"hi\");\n"
      ]
    },
    {
      "cell_type": "code",
      "source": [
        "a=int(input(\"Enter a\"));\n",
        "b=int(input(\"Enter b\"));\n",
        "c = a+b;\n",
        "print(c);"
      ],
      "metadata": {
        "colab": {
          "base_uri": "https://localhost:8080/"
        },
        "id": "8PDqy6HsIX8u",
        "outputId": "64c10e05-4282-4e6f-ecd3-2f56f9972f84"
      },
      "execution_count": 2,
      "outputs": [
        {
          "output_type": "stream",
          "name": "stdout",
          "text": [
            "Enter a5\n",
            "Enter b5\n",
            "10\n"
          ]
        }
      ]
    },
    {
      "cell_type": "code",
      "source": [
        "print(\"\")"
      ],
      "metadata": {
        "colab": {
          "base_uri": "https://localhost:8080/"
        },
        "id": "f31sW3KPhLfZ",
        "outputId": "55296478-0c06-4aa8-91d3-5e38200e71c6"
      },
      "execution_count": 1,
      "outputs": [
        {
          "output_type": "stream",
          "name": "stdout",
          "text": [
            "\n"
          ]
        }
      ]
    },
    {
      "cell_type": "code",
      "source": [
        "print(\"    /|\")\n",
        "print(\"   / |\")\n",
        "print(\"  /  |\")\n",
        "print(\" /   |\")\n",
        "print(\"/____|\")\n"
      ],
      "metadata": {
        "colab": {
          "base_uri": "https://localhost:8080/"
        },
        "id": "aHj0Re6zhOCS",
        "outputId": "fcdca1c0-47ba-42d9-9ac0-deea6a512668"
      },
      "execution_count": 2,
      "outputs": [
        {
          "output_type": "stream",
          "name": "stdout",
          "text": [
            "    /|\n",
            "   / |\n",
            "  /  |\n",
            " /   |\n",
            "/____|\n"
          ]
        }
      ]
    },
    {
      "cell_type": "code",
      "source": [
        "name=\"yaya\"\n",
        "print(len(name))\n"
      ],
      "metadata": {
        "colab": {
          "base_uri": "https://localhost:8080/"
        },
        "id": "k20VgdYGlB7F",
        "outputId": "4e49d634-0b58-4aaf-a5d7-4f97375ab60c"
      },
      "execution_count": 10,
      "outputs": [
        {
          "output_type": "stream",
          "name": "stdout",
          "text": [
            "4\n"
          ]
        }
      ]
    },
    {
      "cell_type": "code",
      "source": [
        "collegeName=\"Ajay Kumar Garg\";\n",
        "print(collegeName.replace(\"Ajay Kumar\",\"AK\"));"
      ],
      "metadata": {
        "colab": {
          "base_uri": "https://localhost:8080/"
        },
        "id": "7-F_0oJXoP0y",
        "outputId": "1ce5ff5e-e349-4bc8-bcf5-99518bb31a58"
      },
      "execution_count": 12,
      "outputs": [
        {
          "output_type": "stream",
          "name": "stdout",
          "text": [
            "AK Garg\n"
          ]
        }
      ]
    },
    {
      "cell_type": "code",
      "source": [
        "from math import *\n",
        "print(floor(3.7))"
      ],
      "metadata": {
        "colab": {
          "base_uri": "https://localhost:8080/"
        },
        "id": "Kru9D-9yz2dg",
        "outputId": "1a341ba8-50db-4614-ec60-b986f4112fa0"
      },
      "execution_count": 15,
      "outputs": [
        {
          "output_type": "stream",
          "name": "stdout",
          "text": [
            "3\n"
          ]
        }
      ]
    },
    {
      "cell_type": "code",
      "source": [
        "name = input(\"whats your name?\");\n",
        "print(\"hi \" + name + \"!\");"
      ],
      "metadata": {
        "colab": {
          "base_uri": "https://localhost:8080/"
        },
        "id": "baG7dIyv0bYf",
        "outputId": "14844d19-23fb-4db0-f861-a22b3a294dc4"
      },
      "execution_count": 18,
      "outputs": [
        {
          "output_type": "stream",
          "name": "stdout",
          "text": [
            "whats your name?tanya\n",
            "hi tanya!\n"
          ]
        }
      ]
    },
    {
      "cell_type": "code",
      "source": [
        "food=[\"ice-cream\",\"waffle\",\"waffle\",\"waffle\",\"waffle\",\"pastry\"]\n",
        "print(food.count(\"waffle\"));\n"
      ],
      "metadata": {
        "colab": {
          "base_uri": "https://localhost:8080/"
        },
        "id": "V6mBmVIK3BmR",
        "outputId": "3a478fd3-20c3-426f-82ed-06f983abb47a"
      },
      "execution_count": 2,
      "outputs": [
        {
          "output_type": "stream",
          "name": "stdout",
          "text": [
            "4\n"
          ]
        }
      ]
    },
    {
      "cell_type": "code",
      "source": [
        "def add_num ():\n",
        "  return a+b;\n",
        "\n",
        "a=5\n",
        "b=6;\n",
        "add_num()"
      ],
      "metadata": {
        "colab": {
          "base_uri": "https://localhost:8080/"
        },
        "id": "Y7viv1ExcQaT",
        "outputId": "64641f06-82bf-4c79-f6e9-307d0073e7ea"
      },
      "execution_count": 4,
      "outputs": [
        {
          "output_type": "execute_result",
          "data": {
            "text/plain": [
              "11"
            ]
          },
          "metadata": {},
          "execution_count": 4
        }
      ]
    },
    {
      "cell_type": "code",
      "source": [
        "def chocolate(name,count):\n",
        "  print(name + \" you have \" + str(count) + \" chocolates.\")\n",
        "\n",
        "chocolate(\"Tanya\",10);\n",
        "chocolate(\"Kitanu\",50);\n",
        ""
      ],
      "metadata": {
        "colab": {
          "base_uri": "https://localhost:8080/"
        },
        "id": "xlT7YOPQk3O9",
        "outputId": "a3065e92-3fe7-4c56-dfab-89342689bfde"
      },
      "execution_count": 9,
      "outputs": [
        {
          "output_type": "stream",
          "name": "stdout",
          "text": [
            "Tanya you have 10 chocolates.\n",
            "Kitanu you have 50 chocolates.\n"
          ]
        }
      ]
    },
    {
      "cell_type": "code",
      "source": [
        "def cube_num(a,b):\n",
        "  return pow(a,b);\n",
        "\n",
        "a=cube_num(26,3);\n",
        "print(\"Cube of given number is \" + str(a));\n"
      ],
      "metadata": {
        "colab": {
          "base_uri": "https://localhost:8080/"
        },
        "id": "fxbGp3RFrtC_",
        "outputId": "71255b8e-9a72-4d89-d729-8f32bec37ba1"
      },
      "execution_count": 11,
      "outputs": [
        {
          "output_type": "stream",
          "name": "stdout",
          "text": [
            "Cube of given number is 17576\n"
          ]
        }
      ]
    },
    {
      "cell_type": "code",
      "source": [
        "#calculator\n",
        "\n",
        "\n",
        "num1=float(input(\"First number\"));\n",
        "num2=float(input(\"Second number\"));\n",
        "op=input(\"Enter operator\");\n",
        "\n",
        "if op==\"+\":\n",
        "  print(num1+num2)\n",
        "\n",
        "elif op=='-':\n",
        "  print(abs(num1-num2))\n",
        "\n",
        "elif op=='*':\n",
        "  print(num1*num2)\n",
        "\n",
        "elif op=='/':\n",
        "  print(num1//num2);\n",
        "\n",
        "else:\n",
        "  print(\"Invalid operator\");\n",
        "\n"
      ],
      "metadata": {
        "colab": {
          "base_uri": "https://localhost:8080/"
        },
        "id": "8CIFSLEFeJYd",
        "outputId": "b70d3f96-2540-4899-e680-49687b71db60"
      },
      "execution_count": 3,
      "outputs": [
        {
          "output_type": "stream",
          "name": "stdout",
          "text": [
            "First number5\n",
            "Second number2\n",
            "Enter operator/\n",
            "2.0\n"
          ]
        }
      ]
    },
    {
      "cell_type": "code",
      "source": [
        "i=1\n",
        "while i<=10:\n",
        "  print(i)\n",
        "  i=i+1"
      ],
      "metadata": {
        "colab": {
          "base_uri": "https://localhost:8080/"
        },
        "id": "9p-lr2IyeSIH",
        "outputId": "12531229-0990-4887-bc4d-db44090b9c09"
      },
      "execution_count": 6,
      "outputs": [
        {
          "output_type": "stream",
          "name": "stdout",
          "text": [
            "1\n",
            "2\n",
            "3\n",
            "4\n",
            "5\n",
            "6\n",
            "7\n",
            "8\n",
            "9\n",
            "10\n"
          ]
        }
      ]
    }
  ]
}